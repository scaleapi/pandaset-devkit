{
 "cells": [
  {
   "cell_type": "markdown",
   "metadata": {
    "collapsed": true,
    "pycharm": {
     "name": "#%% md\n"
    }
   },
   "source": [
    "# Concatenation of Pointclouds into one World Frame Tutorial\n"
   ]
  },
  {
   "cell_type": "markdown",
   "source": [
    "### Instead of visualizing only one point cloud at a time, we can simply aggregate all point cloud data frames into a single large one for visualization."
   ],
   "metadata": {
    "collapsed": false
   }
  },
  {
   "cell_type": "markdown",
   "source": [
    "#### Load a sequence and its LiDAR point clouds"
   ],
   "metadata": {
    "collapsed": false,
    "pycharm": {
     "name": "#%% md\n"
    }
   }
  },
  {
   "cell_type": "code",
   "execution_count": 28,
   "outputs": [
    {
     "name": "stdout",
     "text": [
      "Populating the interactive namespace from numpy and matplotlib\n"
     ],
     "output_type": "stream"
    },
    {
     "data": {
      "text/plain": "<pandaset.sequence.Sequence at 0x15c2f85c0>"
     },
     "metadata": {},
     "output_type": "execute_result",
     "execution_count": 28
    }
   ],
   "source": [
    "import pandaset\n",
    "\n",
    "dataset = pandaset.DataSet('/data/PandaSet')\n",
    "seq002 = dataset['002']\n",
    "seq002.load_lidar()"
   ],
   "metadata": {
    "collapsed": false,
    "pycharm": {
     "name": "#%%\n",
     "is_executing": false
    }
   }
  },
  {
   "cell_type": "markdown",
   "source": [
    "#### Use pandas concat method to concatenate all frames in selected slice"
   ],
   "metadata": {
    "collapsed": false,
    "pycharm": {
     "name": "#%% md\n"
    }
   }
  },
  {
   "cell_type": "code",
   "execution_count": 29,
   "outputs": [],
   "source": [
    "import pandas as pd\n",
    "\n",
    "selected_data = seq002.lidar[::5]  # Take every 5th frame from sequence\n",
    "_ = list(map(lambda xy: xy[1].insert(3,'f', xy[0]), enumerate(selected_data)))# Add column 'f' to each data frame in order\n",
    "\n",
    "selected_data = pd.concat(selected_data)  # Concatenate in order"
   ],
   "metadata": {
    "collapsed": false,
    "pycharm": {
     "name": "#%%\n",
     "is_executing": false
    }
   }
  },
  {
   "cell_type": "markdown",
   "source": [
    "#### For better visualization we can scale the values in column `f` to `[0,1]` so it can be used for better point cloud colors."
   ],
   "metadata": {
    "collapsed": false,
    "pycharm": {
     "name": "#%% md\n"
    }
   }
  },
  {
   "cell_type": "code",
   "execution_count": 30,
   "outputs": [],
   "source": [
    "import matplotlib.pyplot as plt\n",
    "\n",
    "selected_data['f'] = (selected_data['f'] - selected_data['f'].min()) + 0.1*(selected_data['f'].max() - selected_data['f'].min())  # Add 10% of color range as base color (otherwise frame0 has white points)\n",
    "selected_data['f'] /= selected_data['f'].max()"
   ],
   "metadata": {
    "collapsed": false,
    "pycharm": {
     "name": "#%%\n",
     "is_executing": false
    }
   }
  },
  {
   "cell_type": "markdown",
   "source": [
    "#### Now  we can use the concatenated point clouds with open3d visualizer"
   ],
   "metadata": {
    "collapsed": false,
    "pycharm": {
     "name": "#%% md\n",
     "is_executing": false
    }
   }
  },
  {
   "cell_type": "code",
   "execution_count": null,
   "outputs": [],
   "source": [
    "import open3d as o3d\n",
    "import numpy as np\n",
    "\n",
    "o3d_pc = o3d.geometry.PointCloud()\n",
    "o3d_pc.points = o3d.utility.Vector3dVector(selected_data.to_numpy()[:, :3])\n",
    "blue_colors = np.zeros((selected_data['f'].size,3))\n",
    "blue_colors[:,2] = selected_data['f'].transpose()\n",
    "o3d_pc.colors = o3d.utility.Vector3dVector(blue_colors)\n",
    "o3d.visualization.draw_geometries([o3d_pc], window_name=\"concat frame\")\n"
   ],
   "metadata": {
    "collapsed": false,
    "pycharm": {
     "name": "#%%\n",
     "is_executing": true
    }
   }
  }
 ],
 "metadata": {
  "kernelspec": {
   "display_name": "Python 3",
   "language": "python",
   "name": "python3"
  },
  "language_info": {
   "codemirror_mode": {
    "name": "ipython",
    "version": 2
   },
   "file_extension": ".py",
   "mimetype": "text/x-python",
   "name": "python",
   "nbconvert_exporter": "python",
   "pygments_lexer": "ipython2",
   "version": "2.7.6"
  },
  "pycharm": {
   "stem_cell": {
    "cell_type": "raw",
    "source": [],
    "metadata": {
     "collapsed": false
    }
   }
  }
 },
 "nbformat": 4,
 "nbformat_minor": 0
}