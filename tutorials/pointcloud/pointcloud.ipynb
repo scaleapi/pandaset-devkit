{
 "cells": [
  {
   "cell_type": "markdown",
   "metadata": {},
   "source": [
    "# Pointcloud usage tutorial"
   ]
  },
  {
   "cell_type": "markdown",
   "metadata": {},
   "source": [
    "### This tutorials show how to plot pointcloud in the world coordinate and ego coordinate.\n",
    "#### 1.Import required python modules and load sequence data."
   ]
  },
  {
   "cell_type": "code",
   "execution_count": 1,
   "metadata": {},
   "outputs": [
    {
     "output_type": "execute_result",
     "data": {
      "text/plain": "<pandaset.sequence.Sequence at 0x7fc9ac6f5fd0>"
     },
     "metadata": {},
     "execution_count": 1
    }
   ],
   "source": [
    "import pandaset\n",
    "import os\n",
    "\n",
    "# load dataset\n",
    "dataset = pandaset.DataSet('../../test/data')\n",
    "seq002 = dataset[\"002\"]\n",
    "seq002.load_lidar().load_semseg()"
   ]
  },
  {
   "cell_type": "markdown",
   "metadata": {},
   "source": [
    "#### 2.Plot LIDAR points for Pandar64 and PandarGT in the world coordinate.\n",
    "-  Plot Pandar64 pointcloud by points' labels ```d=0``` colorized as blue\n",
    "-  Plot PandarGT pointcloud by points' labels ```d=1``` colorized as red"
   ]
  },
  {
   "cell_type": "code",
   "execution_count": 4,
   "metadata": {},
   "outputs": [
    {
     "output_type": "stream",
     "name": "stdout",
     "text": "Index(['x', 'y', 'z', 'i', 't', 'd'], dtype='object')\nPandar64 has points:  (106207, 6)\nPandarGT has points:  (62089, 6)\n"
    }
   ],
   "source": [
    "import open3d as o3d\n",
    "from open3d import JVisualizer\n",
    "\n",
    "\n",
    "seq_idx = 40\n",
    "print(seq002.lidar[seq_idx].columns)\n",
    "points = seq002.lidar[seq_idx].to_numpy()\n",
    "# get Pandar64 points\n",
    "\n",
    "pandar64_points = points[(points[:, -1] == 0)]\n",
    "print(\"Pandar64 has points: \", pandar64_points.shape)\n",
    "\n",
    "pandarGT_points = points[(points[:, -1] == 1)]\n",
    "print(\"PandarGT has points: \", pandarGT_points.shape)\n",
    "\n",
    "axis_pcd = o3d.create_mesh_coordinate_frame(size=2.0, origin=[0, 0, 0])\n",
    "\n",
    "p64_pc = o3d.geometry.PointCloud()\n",
    "p64_pc.points = o3d.utility.Vector3dVector(pandar64_points[:, :3])\n",
    "p64_pc.colors = o3d.Vector3dVector([[0, 0, 1] for _ in range(pandar64_points.shape[0])])\n",
    "\n",
    "gt_pc = o3d.geometry.PointCloud()\n",
    "gt_pc.points = o3d.utility.Vector3dVector(pandarGT_points[:, :3])\n",
    "gt_pc.colors = o3d.Vector3dVector([[1, 0, 0] for _ in range(pandarGT_points.shape[0])])\n",
    "\n",
    "o3d.visualization.draw_geometries([axis_pcd, p64_pc, gt_pc], window_name=\"world frame\")\n"
   ]
  },
  {
   "cell_type": "markdown",
   "metadata": {},
   "source": [
    "#### 3.Plot LIDAR points for Pandar64 and PandarGT in the ego coordinate.\n",
    "- Use geometry.lidar_points_to_ego to transform points in the world coordinate to the ego coordinate.\n",
    "- ***geometry.lidar_points_to_ego***\n",
    "    - input\n",
    "        - ***lidar_points***(np.array(\\[N, 3\\])): lidar points in the world coordinates.\n",
    "        - ***lidar_pose***: pose in the world coordinates for one camera in one frame.\n",
    "    - output\n",
    "        - ***lidar_points_in_ego***(np.array(\\[N, 2\\])): lidar points in the ego coordinates."
   ]
  },
  {
   "cell_type": "code",
   "execution_count": 5,
   "metadata": {},
   "outputs": [],
   "source": [
    "import open3d as o3d\n",
    "from open3d import JVisualizer\n",
    "\n",
    "from pandaset import geometry\n",
    "\n",
    "ego_pandar64_points = geometry.lidar_points_to_ego(pandar64_points[:, :3], seq002.lidar.poses[seq_idx])\n",
    "p64_pc = o3d.geometry.PointCloud()\n",
    "p64_pc.points = o3d.utility.Vector3dVector(ego_pandar64_points)\n",
    "p64_pc.colors = o3d.Vector3dVector([[0, 0, 1] for _ in range(pandar64_points.shape[0])])\n",
    "\n",
    "ego_pandarGT_points = geometry.lidar_points_to_ego(pandarGT_points[:, :3], seq002.lidar.poses[seq_idx])\n",
    "gt_pc = o3d.geometry.PointCloud()\n",
    "gt_pc.points = o3d.utility.Vector3dVector(ego_pandarGT_points)\n",
    "gt_pc.colors = o3d.Vector3dVector([[1, 0, 0] for _ in range(pandarGT_points.shape[0])])\n",
    "\n",
    "o3d.visualization.draw_geometries([axis_pcd, p64_pc, gt_pc], window_name=\"ego frame\")"
   ]
  },
  {
   "cell_type": "code",
   "execution_count": null,
   "metadata": {},
   "outputs": [],
   "source": []
  }
 ],
 "metadata": {
  "language_info": {
   "codemirror_mode": {
    "name": "ipython",
    "version": 3
   },
   "file_extension": ".py",
   "mimetype": "text/x-python",
   "name": "python",
   "nbconvert_exporter": "python",
   "pygments_lexer": "ipython3",
   "version": "3.7.6-final"
  },
  "orig_nbformat": 2,
  "kernelspec": {
   "name": "python3.7",
   "display_name": "python3.7"
  }
 },
 "nbformat": 4,
 "nbformat_minor": 2
}